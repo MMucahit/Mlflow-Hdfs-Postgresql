{
 "cells": [
  {
   "cell_type": "code",
   "execution_count": null,
   "metadata": {},
   "outputs": [],
   "source": [
    "## With Hadoop hdfs\n",
    "# locally mlflow-server\n",
    "# remote(on docker) postgresql for backend-store\n",
    "# locally hdfs for artifact-store. Hdfs setup on ubuntu which is another user on ubuntu called hdoop Note: i can't set up remotely"
   ]
  },
  {
   "cell_type": "code",
   "execution_count": null,
   "metadata": {},
   "outputs": [],
   "source": [
    "import os\n",
    "\n",
    "os.environ['HADOOP_HOME'] = '/home/hdoop/hadoop'\n",
    "os.environ['ARROW_LIBHDFS_DIR'] = '/home/hdoop/hadoop/lib/native'\n",
    "os.environ['JAVA_HOME'] = '/usr/lib/jvm/java-8-openjdk-amd64'\n",
    "\n",
    "import mlflow\n",
    "\n",
    "mlflow.set_tracking_uri(\"http://localhost:5000\")\n",
    "\n",
    "print(mlflow.list_experiments())"
   ]
  },
  {
   "cell_type": "code",
   "execution_count": null,
   "metadata": {},
   "outputs": [],
   "source": [
    "from sklearn.linear_model import LogisticRegression\n",
    "from sklearn.datasets import load_iris\n",
    "from sklearn.metrics import accuracy_score\n",
    "\n",
    "mlflow.set_experiment(\"Remote_Postgresql-Local_Hdfs-Local-Mlflow\")\n",
    "\n",
    "with mlflow.start_run():\n",
    "    print(mlflow.get_artifact_uri())\n",
    "\n",
    "    x, y = load_iris(return_X_y=True)\n",
    "\n",
    "    params = {\"C\": 0.1, \"random_state\": 42}\n",
    "    mlflow.log_param('Params',params)\n",
    "\n",
    "    lr = LogisticRegression(**params)\n",
    "    lr = lr.fit(x, y)\t\n",
    "\t\n",
    "    y_pred = lr.predict(x)\n",
    "    \n",
    "    mlflow.log_metric(\"accuracy\", accuracy_score(y, y_pred))\n",
    "\t\n",
    "    mlflow.sklearn.log_model(lr, artifact_path='')\n",
    "    print(f'default artifact URI: {mlflow.get_artifact_uri()}')"
   ]
  },
  {
   "cell_type": "code",
   "execution_count": null,
   "metadata": {},
   "outputs": [],
   "source": [
    "import pyarrow\n",
    "\n",
    "os.environ['HADOOP_HOME'] = '/home/mmucahitnas/Downloads/hadoop-3.3.3/'\n",
    "os.environ['ARROW_LIBHDFS_DIR'] = '/home/mmucahitnas/Downloads/lib/native'\n",
    "os.environ['JAVA_HOME'] = '/usr/lib/jvm/java-8-openjdk-amd64'\n",
    "\n",
    "hdfs = pyarrow.hdfs.connect(host='172.17.0.2', port=9000)"
   ]
  },
  {
   "cell_type": "code",
   "execution_count": null,
   "metadata": {},
   "outputs": [],
   "source": [
    "hdfs.ls('/')"
   ]
  },
  {
   "cell_type": "code",
   "execution_count": null,
   "metadata": {},
   "outputs": [],
   "source": [
    "## AWS\n",
    "\n",
    "# Remote ec2 server for mlflow-server\n",
    "# Remote Postgresql for backends-store\n",
    "# Remote S3 for artifacts-store"
   ]
  },
  {
   "cell_type": "code",
   "execution_count": null,
   "metadata": {},
   "outputs": [],
   "source": [
    "import mlflow\n",
    "\n",
    "TRACKING_SERVER_HOST = \"ec2-44-203-192-141.compute-1.amazonaws.com\"\n",
    "mlflow.set_tracking_uri(f'http://{TRACKING_SERVER_HOST}:5000')\n",
    "\n",
    "f'tracking URI: {mlflow.get_tracking_uri()}'"
   ]
  },
  {
   "cell_type": "code",
   "execution_count": null,
   "metadata": {},
   "outputs": [],
   "source": [
    "mlflow.list_experiments()"
   ]
  },
  {
   "cell_type": "code",
   "execution_count": null,
   "metadata": {},
   "outputs": [],
   "source": [
    "from sklearn.linear_model import LogisticRegression\n",
    "from sklearn.datasets import load_iris\n",
    "from sklearn.metrics import accuracy_score\n",
    "\n",
    "mlflow.set_experiment(\"S3-Postgresql-Remote-AWS\")\n",
    "\n",
    "with mlflow.start_run():\n",
    "    print(mlflow.get_artifact_uri())\n",
    "\n",
    "    x, y = load_iris(return_X_y=True)\n",
    "\n",
    "    params = {\"C\": 0.1, \"random_state\": 42}\n",
    "    # mlflow.log_param(params)\n",
    "\n",
    "    lr = LogisticRegression(**params)\n",
    "    lr = lr.fit(x, y)\t\n",
    "\t\n",
    "    y_pred = lr.predict(x)\n",
    "    \n",
    "    mlflow.log_metric(\"accuracy\", accuracy_score(y, y_pred))\n",
    "\t\n",
    "    mlflow.sklearn.log_model(lr, artifact_path='Models')\n",
    "    print(f'default artifact URI: {mlflow.get_artifact_uri()}')"
   ]
  },
  {
   "cell_type": "code",
   "execution_count": null,
   "metadata": {},
   "outputs": [],
   "source": [
    "mlflow.list_experiments()"
   ]
  },
  {
   "cell_type": "code",
   "execution_count": null,
   "metadata": {},
   "outputs": [],
   "source": []
  }
 ],
 "metadata": {
  "kernelspec": {
   "display_name": "Python 3.8.2 ('MLOps': conda)",
   "language": "python",
   "name": "python3"
  },
  "language_info": {
   "codemirror_mode": {
    "name": "ipython",
    "version": 3
   },
   "file_extension": ".py",
   "mimetype": "text/x-python",
   "name": "python",
   "nbconvert_exporter": "python",
   "pygments_lexer": "ipython3",
   "version": "3.8.2"
  },
  "orig_nbformat": 4,
  "vscode": {
   "interpreter": {
    "hash": "04a4bbd8b88420370b6df19645b8f9743dc60bbdffd861ceacad4224d646d669"
   }
  }
 },
 "nbformat": 4,
 "nbformat_minor": 2
}
